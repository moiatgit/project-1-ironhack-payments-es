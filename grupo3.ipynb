{
 "cells": [
  {
   "cell_type": "markdown",
   "id": "38c1a477-f881-4c46-aeb5-d2daede1db4a",
   "metadata": {},
   "source": [
    "# Proyecto del grupo 3"
   ]
  }
 ],
 "metadata": {
  "kernelspec": {
   "display_name": "Python 3 (ipykernel)",
   "language": "python",
   "name": "python3"
  },
  "language_info": {
   "codemirror_mode": {
    "name": "ipython",
    "version": 3
   },
   "file_extension": ".py",
   "mimetype": "text/x-python",
   "name": "python",
   "nbconvert_exporter": "python",
   "pygments_lexer": "ipython3",
   "version": "3.12.5"
  }
 },
 "nbformat": 4,
 "nbformat_minor": 5
}
