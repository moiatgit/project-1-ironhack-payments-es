{
 "cells": [
  {
   "cell_type": "markdown",
   "id": "38c1a477-f881-4c46-aeb5-d2daede1db4a",
   "metadata": {},
   "source": [
    "# Proyecto del grupo 3"
   ]
  },
  {
   "cell_type": "markdown",
   "id": "af4f8610-1c9a-41fa-a921-11e149ef2396",
   "metadata": {},
   "source": [
    "## PARTICIPANTES\n",
    "\n",
    "* Carla Fernandez\n",
    "* Jesús Ramírez\n",
    "* Moisés Gómez "
   ]
  },
  {
   "cell_type": "code",
   "execution_count": 3,
   "id": "4974ee80-64d4-41b3-b8f7-0b78fea3376a",
   "metadata": {},
   "outputs": [],
   "source": [
    "import pandas as pd\n",
    "import numpy as np"
   ]
  },
  {
   "cell_type": "code",
   "execution_count": 7,
   "id": "b9ae9671-5d64-4058-bd4b-78dd7ecff0e2",
   "metadata": {},
   "outputs": [],
   "source": [
    "df = pd.read_csv(\"./project_dataset/extract - cash request - data analyst.csv\")"
   ]
  }
 ],
 "metadata": {
  "kernelspec": {
   "display_name": "Python 3 (ipykernel)",
   "language": "python",
   "name": "python3"
  },
  "language_info": {
   "codemirror_mode": {
    "name": "ipython",
    "version": 3
   },
   "file_extension": ".py",
   "mimetype": "text/x-python",
   "name": "python",
   "nbconvert_exporter": "python",
   "pygments_lexer": "ipython3",
   "version": "3.12.5"
  }
 },
 "nbformat": 4,
 "nbformat_minor": 5
}
