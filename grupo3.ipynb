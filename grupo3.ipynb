{
 "cells": [
  {
   "cell_type": "markdown",
   "id": "38c1a477-f881-4c46-aeb5-d2daede1db4a",
   "metadata": {},
   "source": [
    "# Proyecto 1 del grupo 3: Desafío Empresarial - Análisis de Cohortes para los Pagos de Ironhack"
   ]
  },
  {
   "cell_type": "markdown",
   "id": "af4f8610-1c9a-41fa-a921-11e149ef2396",
   "metadata": {},
   "source": [
    "## PARTICIPANTES\n",
    "\n",
    "* Carla Fernandez\n",
    "* Jesús Ramírez\n",
    "* Moisés Gómez "
   ]
  },
  {
   "cell_type": "code",
   "execution_count": null,
   "id": "4974ee80-64d4-41b3-b8f7-0b78fea3376a",
   "metadata": {},
   "outputs": [],
   "source": []
  }
 ],
 "metadata": {
  "kernelspec": {
   "display_name": "Python 3 (ipykernel)",
   "language": "python",
   "name": "python3"
  },
  "language_info": {
   "codemirror_mode": {
    "name": "ipython",
    "version": 3
   },
   "file_extension": ".py",
   "mimetype": "text/x-python",
   "name": "python",
   "nbconvert_exporter": "python",
   "pygments_lexer": "ipython3",
   "version": "3.12.4"
  }
 },
 "nbformat": 4,
 "nbformat_minor": 5
}
